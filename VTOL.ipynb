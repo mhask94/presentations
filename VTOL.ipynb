{
 "cells": [
  {
   "cell_type": "markdown",
   "metadata": {},
   "source": [
    "# VTOL Example\n",
    "\n"
   ]
  },
  {
   "cell_type": "code",
   "execution_count": null,
   "metadata": {},
   "outputs": [],
   "source": [
    "import numpy as np\n",
    "import cvxpy as cp\n",
    "\n",
    "class VTOL:\n",
    "    def __init__(self, mass, inertia, arm_len, drag=0.1):\n",
    "        self.M = mass\n",
    "        self.J = inertia\n",
    "        self.mu = drag\n",
    "        self.d = arm_len\n",
    "        self.g = 9.81\n",
    "        self.x = np.zeros((6,1)) # z,h,theta,zd,hd,thetad\n",
    "        self.dt = 0.01\n",
    "    \n",
    "    def updateDynamics(self, u): # RK4 integration\n",
    "        k1 = self._derivatives(self.x, u)\n",
    "        k2 = self._derivatives(self.x + k1*self.dt*0.5, u)\n",
    "        k3 = self._derivatives(self.x + k2*self.dt*0.5, u)\n",
    "        k4 = self._derivatives(self.x + k3*self.dt, u)\n",
    "        self.x += (k1 + 2*k2 + 2*k3 + k4) * (self.dt/6.0)\n",
    "    \n",
    "    def _derivatives(self, x, u):\n",
    "        theta = x.item(2)\n",
    "        zd = x.item(3)\n",
    "        hd = x.item(4)\n",
    "        thetad = x.item(5)\n",
    "        Fr = u.item(0)\n",
    "        Fl = u.item(1)\n",
    "        \n",
    "        # mixer\n",
    "        F = Fl+Fr\n",
    "        Tau = self.d*(Fr-Fl)\n",
    "        \n",
    "        # calculate x_dot\n",
    "        z_dot      = zd\n",
    "        h_dot      = hd\n",
    "        theta_dot  = thetad\n",
    "        z_ddot     = -(self.mu*zd+F*np.sin(theta))/self.M\n",
    "        h_ddot     = F*np.cos(theta)/self.M - self.g\n",
    "        theta_ddot = Tau/self.J\n",
    "        \n",
    "        return np.array([z_dot,h_dot,theta_dot,\n",
    "                         z_ddot,h_ddot,theta_ddot]).reshape((6,1))\n",
    "        \n",
    "\n",
    "m_prop = 0.25\n",
    "m_body = 1\n",
    "J_body = 0.0042\n",
    "d = 0.3\n",
    "mu = 0.1\n",
    "g = 9.81\n",
    "\n",
    "drone = VTOL(m_body+2*m_prop, J_body+2*m_prop*d**2, d, mu)"
   ]
  }
 ],
 "metadata": {
  "kernelspec": {
   "display_name": "Python 3",
   "language": "python",
   "name": "python3"
  },
  "language_info": {
   "codemirror_mode": {
    "name": "ipython",
    "version": 3
   },
   "file_extension": ".py",
   "mimetype": "text/x-python",
   "name": "python",
   "nbconvert_exporter": "python",
   "pygments_lexer": "ipython3",
   "version": "3.6.8"
  }
 },
 "nbformat": 4,
 "nbformat_minor": 2
}
