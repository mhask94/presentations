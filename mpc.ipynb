{
 "cells": [
  {
   "cell_type": "markdown",
   "metadata": {
    "colab_type": "text",
    "id": "view-in-github"
   },
   "source": [
    "<a href=\"https://colab.research.google.com/github/mhask94/presentations/blob/colab/mpc.ipynb\" target=\"_parent\"><img src=\"https://colab.research.google.com/assets/colab-badge.svg\" alt=\"Open In Colab\"/></a>"
   ]
  },
  {
   "cell_type": "markdown",
   "metadata": {
    "colab_type": "text",
    "id": "uJllPTOgbXXT"
   },
   "source": [
    "# Model Predictive Control (MPC)\n",
    "MPC is a form of optimal control. The basic idea behind MPC is that an optimization problem is solved to generate a trajectory of inputs to apply to a system over a specified time horizon. These inputs are applied to a model in order to predict the trajectory of states over the same time horizon that drive the system towards its goal state.\n",
    "Generally, only the first input calculated is applied to the system and the problem is continually re-solved at each time step. Let's look at each of the pieces needed for an MPC controller."
   ]
  },
  {
   "cell_type": "markdown",
   "metadata": {
    "colab_type": "text",
    "id": "I1iqkwV8bXXW"
   },
   "source": [
    "![image](https://upload.wikimedia.org/wikipedia/commons/thumb/1/11/MPC_scheme_basic.svg/1920px-MPC_scheme_basic.svg.png)"
   ]
  },
  {
   "cell_type": "markdown",
   "metadata": {
    "colab_type": "text",
    "id": "8QAtC0GobXXY"
   },
   "source": [
    "## Model\n",
    "As the name implies, MPC requires a model that predicts future states based on the current state and provided inputs.\n",
    "The most common way to get a model is to use the state-variable form of a dynamic system:\n",
    "\n",
    "$$\\dot{x}(t)=f(x(t),u(t))$$\n",
    "and then discretize it:\n",
    "$$x_{k+1}=f_d(x_k,u_k)$$\n",
    "\n",
    "\n",
    "At this point, we should distinguish between linear and non-linear MPC. The literature on MPC is not always consistent on what linear MPC and non-linear MPC (NMPC) mean. At BYU (RAD Lab and MAGICC Lab), we have generally said that the distiction is based on whether this model, $\\dot{x}(t)=f(x(t),u(t))$, is linear or non-linear throughout the optimization. This means if a non-linear model is linearized in some way during the optimization over a single time horizon, we consider it linear MPC even though the system has non-linear dynamics. We only call it NMPC if the optimization problem is using non-linear dynamics to propagate the state over the time horizon. If this doesn't quite make sense now, it should after we reach the optimization portion of MPC.\n",
    "\n",
    "As you can imagine, using non-linear dynamics during the optimization requires much more computational effort and takes more time to solve. It is common in the literature to just use linear MPC if you need a lot of speed. So far, I have only dealt with linear MPC and will focus on that in this notebook. Linearization can be done around any point, but there are added complexities if you linearize around a non-equilibrium point. A system is in equilibrium when $\\dot{x}=f(x_{eq},u_{eq})=0$, meaning that your states won't change from where they are given the equilibrium input. Linearizing equations around some equilibrium point, $eq$, in state-variable form allows you to generate a state-space model with $\\tilde{x}=x-x_{eq}$. Let's do that with a mulitivariate Taylor series expansion:\n",
    "\n",
    "\\begin{eqnarray}\n",
    "\\dot{x}(t) &\\approx& f(x_{eq},u_{eq}) + \\left.\\frac{\\partial f}{\\partial x}\\right\\vert_{eq}\\left(x(t)-x_{eq}\\right) + \\left.\\frac{\\partial f}{\\partial u}\\right\\vert_{eq}\\left(u(t)-u_{eq}\\right) \\\\\n",
    "&=& \\left.\\frac{\\partial f}{\\partial x}\\right\\vert_{eq}\\tilde{x}(t) + \\left.\\frac{\\partial f}{\\partial u}\\right\\vert_{eq}\\tilde{u}(t) \\\\\n",
    "&=& A\\tilde{x}(t)+B\\tilde{u}(t)\n",
    "\\end{eqnarray}\n",
    "\n",
    "This gives us the model we usually use:\n",
    "\n",
    "$$\\dot{\\tilde{x}}(t) = A\\tilde{x}(t)+B\\tilde{u}(t)$$\n",
    "\n",
    "Because we linearized about an equilibrium point, $\\dot{\\tilde{x}}=\\dot{x}-f(x_{eq},u_{eq})=\\dot{x}$. This is not true when linearizing about a non-equilibrium point and that causes issues if you aren't careful, but that is a topic for another day. With the above model, we can perform a simple forward difference numeric integration in order to discretize it:\n",
    "\n",
    "\\begin{eqnarray}\n",
    "\\frac{\\tilde{x}_{k+1}-\\tilde{x}_k}{\\Delta t} &=& A\\tilde{x}_k+B\\tilde{u}_k \\\\\n",
    "\\tilde{x}_{k+1} &=& \\tilde{x}_k + \\Delta t\\left(A\\tilde{x}_k+B\\tilde{u}_k\\right) \\\\\n",
    "&=& (I+\\Delta tA)\\tilde{x}_k + (\\Delta tB)\\tilde{u}_k \n",
    "\\end{eqnarray}\n",
    "\n",
    "This gives us the discretized version:\n",
    "$$\\tilde{x}_{k+1}=A_d\\tilde{x}_k+B_d\\tilde{u}_k$$\n",
    "\n",
    "or the same equation expanded out:\n",
    "\n",
    "$$x_{k+1}=A_d(x_k-x_{eq})+B_d(u_k-u_{eq})+x_{eq}$$"
   ]
  },
  {
   "cell_type": "markdown",
   "metadata": {
    "colab_type": "text",
    "id": "_1np5PGIbXXZ"
   },
   "source": [
    "## Time Horizon\n",
    "There are 2 pieces of information that affect how far into the future a state trajectory will be predicted: the time step ($t_s$) and the number of steps ($N$). The length of the horizon is then $t_s*N$. So if we look 10 steps into the future and discretize the system at 0.1s, then the length of the horizon will be $0.1*10=1s$. Both of these values in the time horizon are tuning parameters. I've read in a textbook that you time horizon should see the system's response settle, but I have also implemented MPC with a very small time horizon that did not see the sytem settle and it worked.\n",
    "\n",
    "One iteration of MPC requires knowledge of the current state, $x_0$, and the optimization solver will generate an input trajectory, $u_0,u_1,...,u_N$, that the model will use to predict a state trajectory, $x_1,x_2,...,x_{N+1}$. Let's visually walk through a couple of steps.\n",
    "\n",
    "$$x_1=Ax_0+Bu_0$$\n",
    "\n",
    "Here, $x_0$ needs to be known and provided to the optimization solver to produce $u_0$.\n",
    "\n",
    "$$x_2=Ax_1+Bu_1$$\n",
    "\n",
    "We can solve the first equation for $x_1$ and the optimization solver will use that to generate $u_1$. You can see how this second equation could also be written entirely in terms of $x_0$ by substituting the first equation into the second:\n",
    "\n",
    "\\begin{eqnarray}\n",
    "x_2 &=& A(Ax_0+Bu_0)+Bu_1 \\\\\n",
    "    &=& A^2x_0 + ABu_0 + Bu_1\n",
    "\\end{eqnarray}\n",
    "\n",
    "Now let's solve for $x_3$.\n",
    "\n",
    "$$x_3=Ax_2+Bu_2$$\n",
    "\n",
    "Let's do a similar substitution as before:\n",
    "\n",
    "\\begin{eqnarray}\n",
    "x_3 &=& A(A^2x_0 + ABu_0 + Bu_1)+Bu_2 \\\\\n",
    "    &=& A^3x_0 + A^2Bu_0 + ABu_1 + Bu_2\n",
    "\\end{eqnarray}\n",
    "\n",
    "Continuing this pattern we can solve for $x_n$ only in terms of $x_0$ and the inputs.\n",
    "\n",
    "$$x_N=A^Nx_0+\\sum_{j=0}^{N-1}A^{N-1-j}Bu_j$$\n",
    "\n",
    "We know $x_0$. Also, A and B are known and unchanging because it is a linear model. So the only 2 unknowns are the input trajectory and the predicted future state trajectory, which is what the optimization problem finds."
   ]
  },
  {
   "cell_type": "markdown",
   "metadata": {
    "colab_type": "text",
    "id": "iN7Iynw5bXXa"
   },
   "source": [
    "## Optimization\n",
    "To this point, we have talked about how the optimization solver generates a trajectory of inputs to produce a desirable trajectory of outputs. Let's take a look at how the optimization does that. There are 3 main pieces to the optimization problem: the cost function, constraints, and parameters."
   ]
  },
  {
   "cell_type": "markdown",
   "metadata": {
    "colab_type": "text",
    "id": "kPMWKSbpbXXc"
   },
   "source": [
    "### Cost Function\n",
    "As with any optimization problem, we need to come up with some function to minimize or maximize. This function can have several names, such as objective function or loss function. With MPC, it is usually referred to as the cost function. In general with controls, we want to minimize error. Error is defined as the difference in our desired state and current state. In order to have one global minimum, we want the cost function to be quadratic. For scalars, a quadratic function is $f(x)=\\alpha x^2$ where $\\alpha$ is positive. For vectors, a quadratic function looks like $f(\\mathbf{x})=\\mathbf{x}^TQ\\mathbf{x}$ where Q is a semi-positive definite matrix (but non-zero). Q is generally a diagonal matrix of scalar weights for each state. So here is a basic cost function that would minimize the error in states:\n",
    "\n",
    "$$J=\\sum_{k=1}^{N+1}(x_k-x_{des})^TQ(x_k-x_{des})$$\n",
    "\n",
    "The cost function can really be any function of states and inputs. Sometimes, one might want to minimize the amount of energy used by the system (e.g. prolong battery life). This can be done by adding a quadratic cost on the inputs:\n",
    "\n",
    "$$J_u=\\sum_{k=0}^{N}u_k^TRu_k$$\n",
    "\n",
    "If your inputs were motor commands to keep a multirotor vehicle in the air, you might want to add cost on the difference in applied inputs and equilibrium inputs:\n",
    "\n",
    "$$J_u=\\sum_{k=0}^{N}(u_k-u_{eq})^TR(u_k-u_{eq})$$\n",
    "\n",
    "Another common idea is to have conservative inputs that don't change very fast. This can be accomplished by adding a cost to the change in inputs from step to step:\n",
    "\n",
    "$$J_u=\\sum_{k=0}^{N-1}(u_{k+1}-u_k)^TR(u_{k+1}-u_k)$$\n",
    "\n",
    "Having a cost on error in states is probably required to control the sytem, but the formulation of the cost from inputs will likely vary from problem to problem. Currently, I use a cost function that does not consider the inputs at all."
   ]
  },
  {
   "cell_type": "markdown",
   "metadata": {
    "colab_type": "text",
    "id": "4LIFyUY3bXXd"
   },
   "source": [
    "### Constraints\n",
    "If all we had was a cost function with no constraints, the optimization would basically tell you \"just teleport to where you want to go.\" Unfortunately, we can't tell our system to do that so the optimization needs some constraints to tell it how our system is capable of moving. The most important constraint, then, is the model that we came up with for the dynamic system.\n",
    "\n",
    "$$x_{k+1}=Ax_k+Bu_k \\ \\ \\ \\forall k \\in 0,1,...,N$$\n",
    "\n",
    "With a cost function in the form $\\sum x^TQx+u^TRu$ and the dynamic model constraint from the line above, MPC would act the same way as LQR. So if you want your optimization problem to look like that, you might consider using LQR instead; LQR has a closed-loop solution that solves this optimization really fast. MPC differs from LQR if you wish to add additional constraints or costs.\n",
    "\n",
    "So what are some other constraints/costs we might want to use? We already saw 1 example: don't let inputs change very much from step to step. Granted, we did use this as an example cost; however, we can strictly limit the change in inputs from step to step if we use a constraint:\n",
    "\n",
    "$$-\\Delta u_{max} \\le u_{k+1}-u_k \\le \\Delta u_{max}$$\n",
    "\n",
    "You should now be able to see that some outcomes we want can be achieved as either a constraint or a cost, depending on how strictly we want to accomplish that outcome.\n",
    "\n",
    "Another common constraint is the saturation limits for states and inputs. Perhaps a state is a robot arm joint angle that can only move between a specific range of angles. Or maybe you have an input of thrust from a propellor that has a physical max and can't be negative. These saturation limits can be provided to the optimization solver so that it theoretically knows how to provide optimal inputs that are dynamically achievable. Here is what the saturation constraints would look like:\n",
    "\n",
    "$$x_{min} \\le x_k \\le x_{max}$$\n",
    "\n",
    "$$u_{min} \\le u_k \\le u_{max}$$\n",
    "\n",
    "There are surely other clever constraints that could be used based on a given problem. Just note that the constraints are written as functions of states and inputs. These funtions will most often be linear otherwise the optimization is much harder to solve and might not produce real-time solutions. It is also worth noting that equality constraints are easier/faster for the optimization to use because inequalities provide a much larger search area."
   ]
  },
  {
   "cell_type": "markdown",
   "metadata": {
    "colab_type": "text",
    "id": "YdJkS8oubXXe"
   },
   "source": [
    "###  Parameters\n",
    "Parameters are pretty simple; they are values you provide the optimization solver that stay constant for that solution. Examples are $A,B,N,x_0,x_{min},x_{max},u_{min},u_{max},$ and any others you might have specified in your cost function or constraints. With MPC, these parameters are constant for a single time horizon. After the first input is applied, the optimization will be solved again and can/will have new values for the parameters. $x_0$ is a value that will change almost every time, because the previous input you apply will likely cause you to move. If you are linearizing a non-linear model then $A$ and $B$ can be updated at each time step as well."
   ]
  },
  {
   "cell_type": "markdown",
   "metadata": {
    "colab_type": "text",
    "id": "_zIqsdPLbXXf"
   },
   "source": [
    "### Mass Spring Damper Example\n",
    "Governing dynamic equations:\n",
    "\n",
    "$$m\\ddot{x}+b\\dot{x}+kx=f$$\n",
    "\n",
    "Find equilibrium point(s):\n",
    "\n",
    "$$f_{eq}=kx_{eq}$$\n",
    "\n",
    "Notice how equilibrium force depends on the location of the mass. We don't have to worry too much about this because it is already a linear system, meaning we can linearize about any point and still model the system perfectly. Let's choose to use $x_{eq}=f_{eq}=0$ and not worry about these values.\n",
    "\n",
    "Get into state-variable form:\n",
    "\n",
    "\\begin{eqnarray}\n",
    "\\dot{x}  &=& \\dot{x} \\\\\n",
    "\\ddot{x} &=& -\\frac{b}{m}\\dot{x} - \\frac{k}{m}x + \\frac{1}{m}f\n",
    "\\end{eqnarray}\n",
    "\n",
    "Let $\\mathbf{x}=[x, \\dot{x}]^T$ and $u=[f]$, then the state-space form is the following:\n",
    "\n",
    "$$\n",
    "\\mathbf{\\dot{x}} = \n",
    "\\begin{bmatrix} 0 & 1 \\\\ -\\frac{k}{m} & -\\frac{b}{m} \\end{bmatrix}\n",
    "\\mathbf{x} +\n",
    "\\begin{bmatrix} 0 \\\\ \\frac{1}{m} \\end{bmatrix} u\n",
    "$$"
   ]
  },
  {
   "cell_type": "markdown",
   "metadata": {
    "colab_type": "text",
    "id": "_O05f_8mblbM"
   },
   "source": [
    "### Run this cell first to install and import modules (<ctrl + Enter> to run a cell)"
   ]
  },
  {
   "cell_type": "code",
   "execution_count": 0,
   "metadata": {
    "colab": {},
    "colab_type": "code",
    "id": "oEnDFlksbZCQ"
   },
   "outputs": [],
   "source": [
    "# install needed modules\n",
    "!pip3 install numpy\n",
    "!pip3 install control\n",
    "!pip3 install matplotlib\n",
    "!pip3 install cvxpy"
   ]
  },
  {
   "cell_type": "code",
   "execution_count": 21,
   "metadata": {
    "colab": {},
    "colab_type": "code",
    "id": "tM02gqUvcF8-"
   },
   "outputs": [],
   "source": [
    "# import needed modules\n",
    "import numpy as np\n",
    "import control as ctrl\n",
    "import cvxpy as cp\n",
    "import matplotlib.pyplot as plt\n",
    "from time import time as now"
   ]
  },
  {
   "cell_type": "code",
   "execution_count": 28,
   "metadata": {
    "colab": {},
    "colab_type": "code",
    "id": "k0zTYW2nbXXg"
   },
   "outputs": [],
   "source": [
    "# model parameters\n",
    "m = 5.0\n",
    "k = 3.0\n",
    "b = 0.5\n",
    "\n",
    "# create model\n",
    "A = np.array([[0,1],[-k/m,-b/m]])\n",
    "B = np.array([[0],[1/m]])\n",
    "C = np.eye(2)\n",
    "D = np.zeros((C.shape[0],1))\n",
    "sys = ctrl.ss(A,B,C,D)\n",
    "\n",
    "# discretize model\n",
    "ts = 0.05\n",
    "sys_d = ctrl.c2d(sys, ts)\n",
    "Ad = np.array(sys_d.A)\n",
    "Bd = np.array(sys_d.B).flatten() # cvxpy requires 1D arrays"
   ]
  },
  {
   "cell_type": "code",
   "execution_count": 34,
   "metadata": {
    "colab": {},
    "colab_type": "code",
    "id": "LsdtwHxYbXXk"
   },
   "outputs": [
    {
     "name": "stdout",
     "output_type": "stream",
     "text": [
      "elapsed time:\t 7.798219442367554\n",
      "final position:\t 0.9945807142243474\n",
      "final input:\t 2.9999996257994352\n"
     ]
    }
   ],
   "source": [
    "# initial condition and goal\n",
    "xk = np.array([0,0])\n",
    "x_des = np.array([1,0])\n",
    "\n",
    "# optimization parameters\n",
    "n = 2\n",
    "m = 1\n",
    "T = 10\n",
    "\n",
    "Q = np.diag([1,0.01])\n",
    "# Q = np.diag([1,0.1])\n",
    "# Q = np.diag([1,0.2])\n",
    "# Q = np.diag([1,0.11])\n",
    "\n",
    "R = 0\n",
    "# R = 0.01\n",
    "# R = 0.0001\n",
    "\n",
    "# simulation parameters\n",
    "tf = 10\n",
    "t = 0\n",
    "\n",
    "# plotting variables\n",
    "pos = []\n",
    "pos.append(xk.item(0))\n",
    "inputs = []\n",
    "time = []\n",
    "time.append(t)\n",
    "\n",
    "# set up optimization\n",
    "x = cp.Variable((n, T+1))\n",
    "u = cp.Variable((m, T))\n",
    "x0 = cp.Parameter(n)\n",
    "cost = 0\n",
    "constr = [x[:,0] == x0] # first set of states is current state\n",
    "for i in range(T):\n",
    "    cost += cp.quad_form(x[:,i+1]-x_des, Q) # cost on error in states\n",
    "    cost += cp.sum_squares(u[:,i]) * R # cost on input\n",
    "    constr += [x[:,i+1] == Ad @ x[:,i] + Bd * u[:,i], # linearize @ x_eq=[0,0],f_eq=0\n",
    "#     constr += [x[:,i+1] == Ad @ (x[:,i]-x_des) + Bd * (u[:,i]-3) + x_des, # linearize @ x_eq=[1,0]^T,f_eq=3\n",
    "              u[:,i] >= 0, u[:,i] <=3] # saturate inputs\n",
    "prob = cp.Problem(cp.Minimize(cost), constr)\n",
    "\n",
    "begin = now()\n",
    "while t <= tf:\n",
    "    # Reset solver's initial condition to current state\n",
    "    x0.value = xk\n",
    "    \n",
    "    # solve optimization\n",
    "    prob.solve(warm_start=True)\n",
    "    \n",
    "    # get first input from optimization\n",
    "    optimal_u = u[:,0].value.item(0)\n",
    "    inputs.append(optimal_u)\n",
    "    \n",
    "    # update current state\n",
    "    xk = Ad @ xk + Bd * optimal_u # linearize @ x_eq=[0,0],f_eq=0\n",
    "#     xk = Ad @ (xk-x_des) + Bd * (optimal_u-3) + x_des # linearize @ x_eq=[1,0]^T,f_eq=3\n",
    "    pos.append(xk[0])\n",
    "    \n",
    "    # increment time\n",
    "    t += ts\n",
    "    time.append(t)\n",
    "\n",
    "end = now()\n",
    "print('elapsed time:\\t', end-begin)\n",
    "print('final position:\\t', xk[0])\n",
    "print('final input:\\t', optimal_u)"
   ]
  },
  {
   "cell_type": "code",
   "execution_count": null,
   "metadata": {},
   "outputs": [],
   "source": [
    "def plot_results():\n",
    "    plt.figure(1)\n",
    "    plt.plot(time, pos, 'b', label='x')\n",
    "    plt.plot([0,tf],[1,1]*x_des.item(0), 'r--', label='$x_{des}$')\n",
    "    plt.xlabel('Time (s)')\n",
    "    plt.ylabel('Position (m)')\n",
    "    plt.title('Mass Spring Damper Simulation')\n",
    "    plt.legend(loc='lower right')\n",
    "\n",
    "    plt.figure(2)\n",
    "    plt.plot(time[1:], inputs, 'g', label='u')\n",
    "    plt.plot([0,tf],[0,0], 'c:', label='$u_{min}$')\n",
    "    plt.plot([0,tf],[3,3], color='orange', linestyle=':', label='$u_{max}$')\n",
    "    plt.xlabel('Time (s)')\n",
    "    plt.ylabel('Force (N)')\n",
    "    plt.title('Inputs')\n",
    "    plt.legend()\n",
    "\n",
    "    plt.show()"
   ]
  },
  {
   "cell_type": "code",
   "execution_count": 35,
   "metadata": {
    "colab": {},
    "colab_type": "code",
    "id": "6z0TbAFebXXo",
    "outputId": "e72f8094-ab0b-49ff-fafb-3d11750cb824"
   },
   "outputs": [
    {
     "data": {
      "image/png": "[encoded data removed]",
      "text/plain": [
       "<Figure size 432x288 with 1 Axes>"
      ]
     },
     "metadata": {
      "needs_background": "light"
     },
     "output_type": "display_data"
    },
    {
     "data": {
      "image/png": "[encoded data removed]",
      "text/plain": [
       "<Figure size 432x288 with 1 Axes>"
      ]
     },
     "metadata": {
      "needs_background": "light"
     },
     "output_type": "display_data"
    }
   ],
   "source": [
    "plot_results()"
   ]
  },
  {
   "cell_type": "code",
   "execution_count": 11,
   "metadata": {
    "colab": {},
    "colab_type": "code",
    "id": "SFepOgqMbXXt",
    "outputId": "ad0d9124-a38a-4b71-e346-54d20fda72e7"
   },
   "outputs": [
    {
     "data": {
      "image/png": "[encoded data removed]",
      "text/plain": [
       "<Figure size 432x288 with 1 Axes>"
      ]
     },
     "metadata": {
      "needs_background": "light"
     },
     "output_type": "display_data"
    },
    {
     "data": {
      "image/png": "[encoded data removed]",
      "text/plain": [
       "<Figure size 432x288 with 1 Axes>"
      ]
     },
     "metadata": {
      "needs_background": "light"
     },
     "output_type": "display_data"
    }
   ],
   "source": [
    "plot_results()"
   ]
  }
 ],
 "metadata": {
  "accelerator": "GPU",
  "colab": {
   "include_colab_link": true,
   "name": "mpc.ipynb",
   "provenance": []
  },
  "kernelspec": {
   "display_name": "Python 3",
   "language": "python",
   "name": "python3"
  },
  "language_info": {
   "codemirror_mode": {
    "name": "ipython",
    "version": 3
   },
   "file_extension": ".py",
   "mimetype": "text/x-python",
   "name": "python",
   "nbconvert_exporter": "python",
   "pygments_lexer": "ipython3",
   "version": "3.6.9"
  }
 },
 "nbformat": 4,
 "nbformat_minor": 1
}
